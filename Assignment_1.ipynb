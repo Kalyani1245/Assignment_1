{
 "cells": [
  {
   "cell_type": "markdown",
   "id": "243262bd-6315-421d-8e14-38b639c616ac",
   "metadata": {},
   "source": [
    "Q.1 Who developed python programming language ?"
   ]
  },
  {
   "cell_type": "markdown",
   "id": "ca9a1fcf-35da-4c3b-87aa-68fd0db1f1dc",
   "metadata": {},
   "source": [
    "Ans. Guido Van Rossum developed python programming        language"
   ]
  },
  {
   "cell_type": "markdown",
   "id": "ca7b5b54-25ce-4cb6-8a5a-9b5cb67f5a10",
   "metadata": {},
   "source": []
  },
  {
   "cell_type": "markdown",
   "id": "eb7371ab-baf2-452e-9790-15bf57f52f2b",
   "metadata": {},
   "source": [
    "Q.2 Which type of programming does python support ?"
   ]
  },
  {
   "cell_type": "markdown",
   "id": "1eec4879-97d7-4a5c-ae7d-6a322854624a",
   "metadata": {},
   "source": [
    "Ans. Python support Object-oriented , structured , &      functional programming"
   ]
  },
  {
   "cell_type": "markdown",
   "id": "ce7748ad-af04-45b5-a370-334594fddecf",
   "metadata": {},
   "source": []
  },
  {
   "cell_type": "markdown",
   "id": "5ad4dfc6-ddf9-4e33-aa75-310d5f6d5024",
   "metadata": {},
   "source": [
    "Q.3 Is python case sensitive when dealing with identifiers ?"
   ]
  },
  {
   "cell_type": "markdown",
   "id": "2cf37635-849b-46b8-baca-832e2a28a9b0",
   "metadata": {},
   "source": [
    "Ans. Case is always significant while dealing with identifiers in python."
   ]
  },
  {
   "cell_type": "markdown",
   "id": "ca31cd8e-508d-4716-94c1-45a5d979628a",
   "metadata": {},
   "source": []
  },
  {
   "cell_type": "markdown",
   "id": "0dfb32c6-31c4-4098-982b-45b9ef0270bf",
   "metadata": {},
   "source": [
    "Q.4 What is the correct extension of the python file ?"
   ]
  },
  {
   "cell_type": "markdown",
   "id": "1f90b708-5816-424e-8389-ec1b686e48f1",
   "metadata": {},
   "source": [
    "Ans.    .py "
   ]
  },
  {
   "cell_type": "markdown",
   "id": "cdcc0359-e560-4f73-9dee-ac9b7a3c0889",
   "metadata": {},
   "source": []
  },
  {
   "cell_type": "markdown",
   "id": "1316bcb7-d42f-4b34-8baf-28fb45d0a8ae",
   "metadata": {},
   "source": [
    "Q.5 Is python code compiled or interpreted ?"
   ]
  },
  {
   "cell_type": "markdown",
   "id": "0cb60cdb-79ad-4606-b1c2-4548f379c2b2",
   "metadata": {},
   "source": [
    "Ans. Python is both compiled as well as interpreted language."
   ]
  },
  {
   "cell_type": "markdown",
   "id": "ee1e52f1-1cfa-4761-bd04-f07e44bcd262",
   "metadata": {},
   "source": []
  },
  {
   "cell_type": "markdown",
   "id": "3e6dd48d-f487-4639-9558-1d7b5a07d240",
   "metadata": {},
   "source": [
    "Q.6 Name a few blocks of code used to define in python language ?"
   ]
  },
  {
   "cell_type": "markdown",
   "id": "6a3cfbc7-1a3e-4421-ba03-152eb97536f4",
   "metadata": {},
   "source": [
    "Ans. A module , a function body , a class defination."
   ]
  },
  {
   "cell_type": "markdown",
   "id": "6aea9003-7fc9-4555-8bd7-ce3a162ce4ad",
   "metadata": {},
   "source": []
  },
  {
   "cell_type": "markdown",
   "id": "e971a945-f863-4da3-92a1-a94211ba12d3",
   "metadata": {},
   "source": [
    "Q.7 State a character used to give single-line comments in python ?"
   ]
  },
  {
   "cell_type": "markdown",
   "id": "8c00bc66-82b2-4277-b5fb-1a2e8b9b7d88",
   "metadata": {},
   "source": [
    "Ans. # (Hash Character) is used to give comments in python"
   ]
  },
  {
   "cell_type": "markdown",
   "id": "aa7c34a9-4164-47ad-b686-3550287e7665",
   "metadata": {},
   "source": []
  },
  {
   "cell_type": "markdown",
   "id": "4e0ccba9-c421-460d-afdd-36407e185f06",
   "metadata": {},
   "source": [
    "Q.8 Mention function which can help us to find the version of python that we are currently working on ?"
   ]
  },
  {
   "cell_type": "markdown",
   "id": "5122ffb1-249c-45e9-8ad6-1cbb16e81968",
   "metadata": {},
   "source": [
    "Ans. The function sys.version can help us to find the version of python that we are currently working on."
   ]
  },
  {
   "cell_type": "markdown",
   "id": "38040997-ea20-46c5-94d4-2e2b410bd186",
   "metadata": {},
   "source": []
  },
  {
   "cell_type": "markdown",
   "id": "3414889c-f9a3-46ef-8436-e53efe522a52",
   "metadata": {},
   "source": [
    "Q.9 Python supports the creation of anonymous functions at runtime, using a construct called -----"
   ]
  },
  {
   "cell_type": "markdown",
   "id": "6317bf4f-0e0f-4dde-a4d6-97dc6b3ee109",
   "metadata": {},
   "source": [
    "Ans. Lambda"
   ]
  },
  {
   "cell_type": "markdown",
   "id": "0fa9a73f-2277-46ee-a937-d5ef457a5dbf",
   "metadata": {},
   "source": []
  },
  {
   "cell_type": "markdown",
   "id": "eefa41af-918b-4f81-98a6-ad04eab079af",
   "metadata": {},
   "source": [
    "Q.10 What does pip stand for python ?"
   ]
  },
  {
   "cell_type": "markdown",
   "id": "4d132e25-3c2f-43ee-82c3-0bd8bc21c082",
   "metadata": {},
   "source": [
    "Ans. pip(Preffered installer Program) used to install python packages."
   ]
  },
  {
   "cell_type": "markdown",
   "id": "9af3bb23-4b70-4837-9d17-3684896462fd",
   "metadata": {},
   "source": []
  },
  {
   "cell_type": "markdown",
   "id": "e2da303d-a769-4ad3-bc2e-dc44340e12c3",
   "metadata": {},
   "source": [
    "Q.11 Mention a few built-in function in python ?"
   ]
  },
  {
   "cell_type": "markdown",
   "id": "ee482a0c-51bf-4183-a7e2-2b1cd1a7611a",
   "metadata": {},
   "source": [
    "Ans. filter() , input() , map() , next() , print() , range() , type() , count() , index() , pop() , sort() , remove() , insert() , etc,"
   ]
  },
  {
   "cell_type": "markdown",
   "id": "84783efd-f80c-420e-88e9-91cd69dc7d8a",
   "metadata": {},
   "source": []
  },
  {
   "cell_type": "markdown",
   "id": "b3db7317-2f4a-478b-8277-6bc6acf1fcf3",
   "metadata": {},
   "source": [
    "Q.12 What is the maximum possible length of an identifier in python ?"
   ]
  },
  {
   "cell_type": "markdown",
   "id": "40526d88-902c-44b9-a819-5df28365b066",
   "metadata": {},
   "source": [
    "Ans. 256"
   ]
  },
  {
   "cell_type": "markdown",
   "id": "50ca7b77-5cbe-4329-8255-1b483af0db97",
   "metadata": {},
   "source": []
  },
  {
   "cell_type": "markdown",
   "id": "0ab3b58f-4bab-4a82-a3a6-44bdf8fb4a2d",
   "metadata": {},
   "source": [
    "Q.13 What are the benefits of using python ?"
   ]
  },
  {
   "cell_type": "markdown",
   "id": "ae24d229-5660-4e0d-a523-587040c54082",
   "metadata": {},
   "source": [
    "Ans. -Libraries help reduce coding errors   \n",
    " -Make programmers more efficient   \n",
    " -Make software smaller in size "
   ]
  },
  {
   "cell_type": "markdown",
   "id": "962f8075-4bc9-436f-965c-38c013e2c947",
   "metadata": {},
   "source": []
  },
  {
   "cell_type": "markdown",
   "id": "8ead36dd-7fa8-4d96-a524-643a80e36e22",
   "metadata": {},
   "source": [
    "Q.14 How is memory managed in python ?"
   ]
  },
  {
   "cell_type": "markdown",
   "id": "c7504e08-229f-4372-97df-21abc8247252",
   "metadata": {},
   "source": [
    "Ans. Memory in python is managed by python private heap space. All python objects and data structures are located in a private heap."
   ]
  },
  {
   "cell_type": "markdown",
   "id": "c17f16f0-ff3d-48dd-8247-6db631305a80",
   "metadata": {},
   "source": []
  },
  {
   "cell_type": "markdown",
   "id": "bb09b034-480f-4911-aa92-ba60ecd096e4",
   "metadata": {},
   "source": [
    "Q.15 How to install python on windows and set path variable ? "
   ]
  },
  {
   "cell_type": "markdown",
   "id": "9d7017d6-79dd-4cd5-b137-05030ac69385",
   "metadata": {},
   "source": [
    "Ans. Download python from www.python.org and install it by following installation steps \n",
    "-Double click on download file and install python\n",
    "\n",
    "to set path variable follow these steps\n",
    "-right click on my computer -> properties -> advanced system setting -> environment variables tab -> new tab \n",
    "-in variable name write path and in variable value copy path up to path where python is installed \n",
    "-paste path of python in variable value\n",
    "-then click on ok button"
   ]
  },
  {
   "cell_type": "markdown",
   "id": "54736fdf-b61e-4d8f-b05a-d54e09414d0b",
   "metadata": {},
   "source": []
  },
  {
   "cell_type": "markdown",
   "id": "01d31a81-86a4-46ea-901f-dd980fcaee5c",
   "metadata": {},
   "source": [
    "Q.16 Is indentation required in python ?"
   ]
  },
  {
   "cell_type": "markdown",
   "id": "1761342e-ba26-47d4-8a52-e1840e65db95",
   "metadata": {},
   "source": [
    "Ans. Indentation is very important in python. python uses indentation to indicate the block of code."
   ]
  }
 ],
 "metadata": {
  "kernelspec": {
   "display_name": "Python 3 (ipykernel)",
   "language": "python",
   "name": "python3"
  },
  "language_info": {
   "codemirror_mode": {
    "name": "ipython",
    "version": 3
   },
   "file_extension": ".py",
   "mimetype": "text/x-python",
   "name": "python",
   "nbconvert_exporter": "python",
   "pygments_lexer": "ipython3",
   "version": "3.10.8"
  }
 },
 "nbformat": 4,
 "nbformat_minor": 5
}
